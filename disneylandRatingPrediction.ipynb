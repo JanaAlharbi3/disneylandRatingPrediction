{
  "nbformat": 4,
  "nbformat_minor": 0,
  "metadata": {
    "colab": {
      "provenance": []
    },
    "kernelspec": {
      "name": "python3",
      "display_name": "Python 3"
    },
    "language_info": {
      "name": "python"
    }
  },
  "cells": [
    {
      "cell_type": "code",
      "execution_count": 1,
      "metadata": {
        "id": "eZfHa1sh08XA"
      },
      "outputs": [],
      "source": [
        "# read data\n",
        "import pandas as pd\n"
      ]
    },
    {
      "cell_type": "code",
      "source": [
        "df=pd.read_csv('DisneylandReviews.csv',encoding='latin1')"
      ],
      "metadata": {
        "id": "KVRkiMqv1tx8"
      },
      "execution_count": 4,
      "outputs": []
    },
    {
      "cell_type": "code",
      "source": [
        "df.shape"
      ],
      "metadata": {
        "colab": {
          "base_uri": "https://localhost:8080/"
        },
        "id": "gwLuhfHM2dg3",
        "outputId": "ff55b71f-4619-4bb6-dafc-1b0be020a63d"
      },
      "execution_count": 5,
      "outputs": [
        {
          "output_type": "execute_result",
          "data": {
            "text/plain": [
              "(42656, 6)"
            ]
          },
          "metadata": {},
          "execution_count": 5
        }
      ]
    },
    {
      "cell_type": "code",
      "source": [
        "df.head()"
      ],
      "metadata": {
        "colab": {
          "base_uri": "https://localhost:8080/",
          "height": 293
        },
        "id": "ylwRumj72fWs",
        "outputId": "2502d0f6-487e-4829-e43f-2c21114b22e2"
      },
      "execution_count": 6,
      "outputs": [
        {
          "output_type": "execute_result",
          "data": {
            "text/plain": [
              "   Review_ID  Rating Year_Month     Reviewer_Location  \\\n",
              "0  670772142       4     2019-4             Australia   \n",
              "1  670682799       4     2019-5           Philippines   \n",
              "2  670623270       4     2019-4  United Arab Emirates   \n",
              "3  670607911       4     2019-4             Australia   \n",
              "4  670607296       4     2019-4        United Kingdom   \n",
              "\n",
              "                                         Review_Text               Branch  \n",
              "0  If you've ever been to Disneyland anywhere you...  Disneyland_HongKong  \n",
              "1  Its been a while since d last time we visit HK...  Disneyland_HongKong  \n",
              "2  Thanks God it wasn   t too hot or too humid wh...  Disneyland_HongKong  \n",
              "3  HK Disneyland is a great compact park. Unfortu...  Disneyland_HongKong  \n",
              "4  the location is not in the city, took around 1...  Disneyland_HongKong  "
            ],
            "text/html": [
              "\n",
              "  <div id=\"df-14bbf8f6-6135-43d7-9d12-e21103dc271d\" class=\"colab-df-container\">\n",
              "    <div>\n",
              "<style scoped>\n",
              "    .dataframe tbody tr th:only-of-type {\n",
              "        vertical-align: middle;\n",
              "    }\n",
              "\n",
              "    .dataframe tbody tr th {\n",
              "        vertical-align: top;\n",
              "    }\n",
              "\n",
              "    .dataframe thead th {\n",
              "        text-align: right;\n",
              "    }\n",
              "</style>\n",
              "<table border=\"1\" class=\"dataframe\">\n",
              "  <thead>\n",
              "    <tr style=\"text-align: right;\">\n",
              "      <th></th>\n",
              "      <th>Review_ID</th>\n",
              "      <th>Rating</th>\n",
              "      <th>Year_Month</th>\n",
              "      <th>Reviewer_Location</th>\n",
              "      <th>Review_Text</th>\n",
              "      <th>Branch</th>\n",
              "    </tr>\n",
              "  </thead>\n",
              "  <tbody>\n",
              "    <tr>\n",
              "      <th>0</th>\n",
              "      <td>670772142</td>\n",
              "      <td>4</td>\n",
              "      <td>2019-4</td>\n",
              "      <td>Australia</td>\n",
              "      <td>If you've ever been to Disneyland anywhere you...</td>\n",
              "      <td>Disneyland_HongKong</td>\n",
              "    </tr>\n",
              "    <tr>\n",
              "      <th>1</th>\n",
              "      <td>670682799</td>\n",
              "      <td>4</td>\n",
              "      <td>2019-5</td>\n",
              "      <td>Philippines</td>\n",
              "      <td>Its been a while since d last time we visit HK...</td>\n",
              "      <td>Disneyland_HongKong</td>\n",
              "    </tr>\n",
              "    <tr>\n",
              "      <th>2</th>\n",
              "      <td>670623270</td>\n",
              "      <td>4</td>\n",
              "      <td>2019-4</td>\n",
              "      <td>United Arab Emirates</td>\n",
              "      <td>Thanks God it wasn   t too hot or too humid wh...</td>\n",
              "      <td>Disneyland_HongKong</td>\n",
              "    </tr>\n",
              "    <tr>\n",
              "      <th>3</th>\n",
              "      <td>670607911</td>\n",
              "      <td>4</td>\n",
              "      <td>2019-4</td>\n",
              "      <td>Australia</td>\n",
              "      <td>HK Disneyland is a great compact park. Unfortu...</td>\n",
              "      <td>Disneyland_HongKong</td>\n",
              "    </tr>\n",
              "    <tr>\n",
              "      <th>4</th>\n",
              "      <td>670607296</td>\n",
              "      <td>4</td>\n",
              "      <td>2019-4</td>\n",
              "      <td>United Kingdom</td>\n",
              "      <td>the location is not in the city, took around 1...</td>\n",
              "      <td>Disneyland_HongKong</td>\n",
              "    </tr>\n",
              "  </tbody>\n",
              "</table>\n",
              "</div>\n",
              "    <div class=\"colab-df-buttons\">\n",
              "\n",
              "  <div class=\"colab-df-container\">\n",
              "    <button class=\"colab-df-convert\" onclick=\"convertToInteractive('df-14bbf8f6-6135-43d7-9d12-e21103dc271d')\"\n",
              "            title=\"Convert this dataframe to an interactive table.\"\n",
              "            style=\"display:none;\">\n",
              "\n",
              "  <svg xmlns=\"http://www.w3.org/2000/svg\" height=\"24px\" viewBox=\"0 -960 960 960\">\n",
              "    <path d=\"M120-120v-720h720v720H120Zm60-500h600v-160H180v160Zm220 220h160v-160H400v160Zm0 220h160v-160H400v160ZM180-400h160v-160H180v160Zm440 0h160v-160H620v160ZM180-180h160v-160H180v160Zm440 0h160v-160H620v160Z\"/>\n",
              "  </svg>\n",
              "    </button>\n",
              "\n",
              "  <style>\n",
              "    .colab-df-container {\n",
              "      display:flex;\n",
              "      gap: 12px;\n",
              "    }\n",
              "\n",
              "    .colab-df-convert {\n",
              "      background-color: #E8F0FE;\n",
              "      border: none;\n",
              "      border-radius: 50%;\n",
              "      cursor: pointer;\n",
              "      display: none;\n",
              "      fill: #1967D2;\n",
              "      height: 32px;\n",
              "      padding: 0 0 0 0;\n",
              "      width: 32px;\n",
              "    }\n",
              "\n",
              "    .colab-df-convert:hover {\n",
              "      background-color: #E2EBFA;\n",
              "      box-shadow: 0px 1px 2px rgba(60, 64, 67, 0.3), 0px 1px 3px 1px rgba(60, 64, 67, 0.15);\n",
              "      fill: #174EA6;\n",
              "    }\n",
              "\n",
              "    .colab-df-buttons div {\n",
              "      margin-bottom: 4px;\n",
              "    }\n",
              "\n",
              "    [theme=dark] .colab-df-convert {\n",
              "      background-color: #3B4455;\n",
              "      fill: #D2E3FC;\n",
              "    }\n",
              "\n",
              "    [theme=dark] .colab-df-convert:hover {\n",
              "      background-color: #434B5C;\n",
              "      box-shadow: 0px 1px 3px 1px rgba(0, 0, 0, 0.15);\n",
              "      filter: drop-shadow(0px 1px 2px rgba(0, 0, 0, 0.3));\n",
              "      fill: #FFFFFF;\n",
              "    }\n",
              "  </style>\n",
              "\n",
              "    <script>\n",
              "      const buttonEl =\n",
              "        document.querySelector('#df-14bbf8f6-6135-43d7-9d12-e21103dc271d button.colab-df-convert');\n",
              "      buttonEl.style.display =\n",
              "        google.colab.kernel.accessAllowed ? 'block' : 'none';\n",
              "\n",
              "      async function convertToInteractive(key) {\n",
              "        const element = document.querySelector('#df-14bbf8f6-6135-43d7-9d12-e21103dc271d');\n",
              "        const dataTable =\n",
              "          await google.colab.kernel.invokeFunction('convertToInteractive',\n",
              "                                                    [key], {});\n",
              "        if (!dataTable) return;\n",
              "\n",
              "        const docLinkHtml = 'Like what you see? Visit the ' +\n",
              "          '<a target=\"_blank\" href=https://colab.research.google.com/notebooks/data_table.ipynb>data table notebook</a>'\n",
              "          + ' to learn more about interactive tables.';\n",
              "        element.innerHTML = '';\n",
              "        dataTable['output_type'] = 'display_data';\n",
              "        await google.colab.output.renderOutput(dataTable, element);\n",
              "        const docLink = document.createElement('div');\n",
              "        docLink.innerHTML = docLinkHtml;\n",
              "        element.appendChild(docLink);\n",
              "      }\n",
              "    </script>\n",
              "  </div>\n",
              "\n",
              "\n",
              "<div id=\"df-679086d4-9112-45ea-bb80-87d4ef87ccdc\">\n",
              "  <button class=\"colab-df-quickchart\" onclick=\"quickchart('df-679086d4-9112-45ea-bb80-87d4ef87ccdc')\"\n",
              "            title=\"Suggest charts\"\n",
              "            style=\"display:none;\">\n",
              "\n",
              "<svg xmlns=\"http://www.w3.org/2000/svg\" height=\"24px\"viewBox=\"0 0 24 24\"\n",
              "     width=\"24px\">\n",
              "    <g>\n",
              "        <path d=\"M19 3H5c-1.1 0-2 .9-2 2v14c0 1.1.9 2 2 2h14c1.1 0 2-.9 2-2V5c0-1.1-.9-2-2-2zM9 17H7v-7h2v7zm4 0h-2V7h2v10zm4 0h-2v-4h2v4z\"/>\n",
              "    </g>\n",
              "</svg>\n",
              "  </button>\n",
              "\n",
              "<style>\n",
              "  .colab-df-quickchart {\n",
              "      --bg-color: #E8F0FE;\n",
              "      --fill-color: #1967D2;\n",
              "      --hover-bg-color: #E2EBFA;\n",
              "      --hover-fill-color: #174EA6;\n",
              "      --disabled-fill-color: #AAA;\n",
              "      --disabled-bg-color: #DDD;\n",
              "  }\n",
              "\n",
              "  [theme=dark] .colab-df-quickchart {\n",
              "      --bg-color: #3B4455;\n",
              "      --fill-color: #D2E3FC;\n",
              "      --hover-bg-color: #434B5C;\n",
              "      --hover-fill-color: #FFFFFF;\n",
              "      --disabled-bg-color: #3B4455;\n",
              "      --disabled-fill-color: #666;\n",
              "  }\n",
              "\n",
              "  .colab-df-quickchart {\n",
              "    background-color: var(--bg-color);\n",
              "    border: none;\n",
              "    border-radius: 50%;\n",
              "    cursor: pointer;\n",
              "    display: none;\n",
              "    fill: var(--fill-color);\n",
              "    height: 32px;\n",
              "    padding: 0;\n",
              "    width: 32px;\n",
              "  }\n",
              "\n",
              "  .colab-df-quickchart:hover {\n",
              "    background-color: var(--hover-bg-color);\n",
              "    box-shadow: 0 1px 2px rgba(60, 64, 67, 0.3), 0 1px 3px 1px rgba(60, 64, 67, 0.15);\n",
              "    fill: var(--button-hover-fill-color);\n",
              "  }\n",
              "\n",
              "  .colab-df-quickchart-complete:disabled,\n",
              "  .colab-df-quickchart-complete:disabled:hover {\n",
              "    background-color: var(--disabled-bg-color);\n",
              "    fill: var(--disabled-fill-color);\n",
              "    box-shadow: none;\n",
              "  }\n",
              "\n",
              "  .colab-df-spinner {\n",
              "    border: 2px solid var(--fill-color);\n",
              "    border-color: transparent;\n",
              "    border-bottom-color: var(--fill-color);\n",
              "    animation:\n",
              "      spin 1s steps(1) infinite;\n",
              "  }\n",
              "\n",
              "  @keyframes spin {\n",
              "    0% {\n",
              "      border-color: transparent;\n",
              "      border-bottom-color: var(--fill-color);\n",
              "      border-left-color: var(--fill-color);\n",
              "    }\n",
              "    20% {\n",
              "      border-color: transparent;\n",
              "      border-left-color: var(--fill-color);\n",
              "      border-top-color: var(--fill-color);\n",
              "    }\n",
              "    30% {\n",
              "      border-color: transparent;\n",
              "      border-left-color: var(--fill-color);\n",
              "      border-top-color: var(--fill-color);\n",
              "      border-right-color: var(--fill-color);\n",
              "    }\n",
              "    40% {\n",
              "      border-color: transparent;\n",
              "      border-right-color: var(--fill-color);\n",
              "      border-top-color: var(--fill-color);\n",
              "    }\n",
              "    60% {\n",
              "      border-color: transparent;\n",
              "      border-right-color: var(--fill-color);\n",
              "    }\n",
              "    80% {\n",
              "      border-color: transparent;\n",
              "      border-right-color: var(--fill-color);\n",
              "      border-bottom-color: var(--fill-color);\n",
              "    }\n",
              "    90% {\n",
              "      border-color: transparent;\n",
              "      border-bottom-color: var(--fill-color);\n",
              "    }\n",
              "  }\n",
              "</style>\n",
              "\n",
              "  <script>\n",
              "    async function quickchart(key) {\n",
              "      const quickchartButtonEl =\n",
              "        document.querySelector('#' + key + ' button');\n",
              "      quickchartButtonEl.disabled = true;  // To prevent multiple clicks.\n",
              "      quickchartButtonEl.classList.add('colab-df-spinner');\n",
              "      try {\n",
              "        const charts = await google.colab.kernel.invokeFunction(\n",
              "            'suggestCharts', [key], {});\n",
              "      } catch (error) {\n",
              "        console.error('Error during call to suggestCharts:', error);\n",
              "      }\n",
              "      quickchartButtonEl.classList.remove('colab-df-spinner');\n",
              "      quickchartButtonEl.classList.add('colab-df-quickchart-complete');\n",
              "    }\n",
              "    (() => {\n",
              "      let quickchartButtonEl =\n",
              "        document.querySelector('#df-679086d4-9112-45ea-bb80-87d4ef87ccdc button');\n",
              "      quickchartButtonEl.style.display =\n",
              "        google.colab.kernel.accessAllowed ? 'block' : 'none';\n",
              "    })();\n",
              "  </script>\n",
              "</div>\n",
              "\n",
              "    </div>\n",
              "  </div>\n"
            ]
          },
          "metadata": {},
          "execution_count": 6
        }
      ]
    },
    {
      "cell_type": "code",
      "source": [
        "df.isna()"
      ],
      "metadata": {
        "colab": {
          "base_uri": "https://localhost:8080/",
          "height": 424
        },
        "id": "ZXUkUY5B2k6r",
        "outputId": "f6dd754f-ba6e-45a7-cc41-a4339a691b4c"
      },
      "execution_count": 7,
      "outputs": [
        {
          "output_type": "execute_result",
          "data": {
            "text/plain": [
              "       Review_ID  Rating  Year_Month  Reviewer_Location  Review_Text  Branch\n",
              "0          False   False       False              False        False   False\n",
              "1          False   False       False              False        False   False\n",
              "2          False   False       False              False        False   False\n",
              "3          False   False       False              False        False   False\n",
              "4          False   False       False              False        False   False\n",
              "...          ...     ...         ...                ...          ...     ...\n",
              "42651      False   False       False              False        False   False\n",
              "42652      False   False       False              False        False   False\n",
              "42653      False   False       False              False        False   False\n",
              "42654      False   False       False              False        False   False\n",
              "42655      False   False       False              False        False   False\n",
              "\n",
              "[42656 rows x 6 columns]"
            ],
            "text/html": [
              "\n",
              "  <div id=\"df-13d4e0d1-2487-462e-a215-1736f1d01a81\" class=\"colab-df-container\">\n",
              "    <div>\n",
              "<style scoped>\n",
              "    .dataframe tbody tr th:only-of-type {\n",
              "        vertical-align: middle;\n",
              "    }\n",
              "\n",
              "    .dataframe tbody tr th {\n",
              "        vertical-align: top;\n",
              "    }\n",
              "\n",
              "    .dataframe thead th {\n",
              "        text-align: right;\n",
              "    }\n",
              "</style>\n",
              "<table border=\"1\" class=\"dataframe\">\n",
              "  <thead>\n",
              "    <tr style=\"text-align: right;\">\n",
              "      <th></th>\n",
              "      <th>Review_ID</th>\n",
              "      <th>Rating</th>\n",
              "      <th>Year_Month</th>\n",
              "      <th>Reviewer_Location</th>\n",
              "      <th>Review_Text</th>\n",
              "      <th>Branch</th>\n",
              "    </tr>\n",
              "  </thead>\n",
              "  <tbody>\n",
              "    <tr>\n",
              "      <th>0</th>\n",
              "      <td>False</td>\n",
              "      <td>False</td>\n",
              "      <td>False</td>\n",
              "      <td>False</td>\n",
              "      <td>False</td>\n",
              "      <td>False</td>\n",
              "    </tr>\n",
              "    <tr>\n",
              "      <th>1</th>\n",
              "      <td>False</td>\n",
              "      <td>False</td>\n",
              "      <td>False</td>\n",
              "      <td>False</td>\n",
              "      <td>False</td>\n",
              "      <td>False</td>\n",
              "    </tr>\n",
              "    <tr>\n",
              "      <th>2</th>\n",
              "      <td>False</td>\n",
              "      <td>False</td>\n",
              "      <td>False</td>\n",
              "      <td>False</td>\n",
              "      <td>False</td>\n",
              "      <td>False</td>\n",
              "    </tr>\n",
              "    <tr>\n",
              "      <th>3</th>\n",
              "      <td>False</td>\n",
              "      <td>False</td>\n",
              "      <td>False</td>\n",
              "      <td>False</td>\n",
              "      <td>False</td>\n",
              "      <td>False</td>\n",
              "    </tr>\n",
              "    <tr>\n",
              "      <th>4</th>\n",
              "      <td>False</td>\n",
              "      <td>False</td>\n",
              "      <td>False</td>\n",
              "      <td>False</td>\n",
              "      <td>False</td>\n",
              "      <td>False</td>\n",
              "    </tr>\n",
              "    <tr>\n",
              "      <th>...</th>\n",
              "      <td>...</td>\n",
              "      <td>...</td>\n",
              "      <td>...</td>\n",
              "      <td>...</td>\n",
              "      <td>...</td>\n",
              "      <td>...</td>\n",
              "    </tr>\n",
              "    <tr>\n",
              "      <th>42651</th>\n",
              "      <td>False</td>\n",
              "      <td>False</td>\n",
              "      <td>False</td>\n",
              "      <td>False</td>\n",
              "      <td>False</td>\n",
              "      <td>False</td>\n",
              "    </tr>\n",
              "    <tr>\n",
              "      <th>42652</th>\n",
              "      <td>False</td>\n",
              "      <td>False</td>\n",
              "      <td>False</td>\n",
              "      <td>False</td>\n",
              "      <td>False</td>\n",
              "      <td>False</td>\n",
              "    </tr>\n",
              "    <tr>\n",
              "      <th>42653</th>\n",
              "      <td>False</td>\n",
              "      <td>False</td>\n",
              "      <td>False</td>\n",
              "      <td>False</td>\n",
              "      <td>False</td>\n",
              "      <td>False</td>\n",
              "    </tr>\n",
              "    <tr>\n",
              "      <th>42654</th>\n",
              "      <td>False</td>\n",
              "      <td>False</td>\n",
              "      <td>False</td>\n",
              "      <td>False</td>\n",
              "      <td>False</td>\n",
              "      <td>False</td>\n",
              "    </tr>\n",
              "    <tr>\n",
              "      <th>42655</th>\n",
              "      <td>False</td>\n",
              "      <td>False</td>\n",
              "      <td>False</td>\n",
              "      <td>False</td>\n",
              "      <td>False</td>\n",
              "      <td>False</td>\n",
              "    </tr>\n",
              "  </tbody>\n",
              "</table>\n",
              "<p>42656 rows × 6 columns</p>\n",
              "</div>\n",
              "    <div class=\"colab-df-buttons\">\n",
              "\n",
              "  <div class=\"colab-df-container\">\n",
              "    <button class=\"colab-df-convert\" onclick=\"convertToInteractive('df-13d4e0d1-2487-462e-a215-1736f1d01a81')\"\n",
              "            title=\"Convert this dataframe to an interactive table.\"\n",
              "            style=\"display:none;\">\n",
              "\n",
              "  <svg xmlns=\"http://www.w3.org/2000/svg\" height=\"24px\" viewBox=\"0 -960 960 960\">\n",
              "    <path d=\"M120-120v-720h720v720H120Zm60-500h600v-160H180v160Zm220 220h160v-160H400v160Zm0 220h160v-160H400v160ZM180-400h160v-160H180v160Zm440 0h160v-160H620v160ZM180-180h160v-160H180v160Zm440 0h160v-160H620v160Z\"/>\n",
              "  </svg>\n",
              "    </button>\n",
              "\n",
              "  <style>\n",
              "    .colab-df-container {\n",
              "      display:flex;\n",
              "      gap: 12px;\n",
              "    }\n",
              "\n",
              "    .colab-df-convert {\n",
              "      background-color: #E8F0FE;\n",
              "      border: none;\n",
              "      border-radius: 50%;\n",
              "      cursor: pointer;\n",
              "      display: none;\n",
              "      fill: #1967D2;\n",
              "      height: 32px;\n",
              "      padding: 0 0 0 0;\n",
              "      width: 32px;\n",
              "    }\n",
              "\n",
              "    .colab-df-convert:hover {\n",
              "      background-color: #E2EBFA;\n",
              "      box-shadow: 0px 1px 2px rgba(60, 64, 67, 0.3), 0px 1px 3px 1px rgba(60, 64, 67, 0.15);\n",
              "      fill: #174EA6;\n",
              "    }\n",
              "\n",
              "    .colab-df-buttons div {\n",
              "      margin-bottom: 4px;\n",
              "    }\n",
              "\n",
              "    [theme=dark] .colab-df-convert {\n",
              "      background-color: #3B4455;\n",
              "      fill: #D2E3FC;\n",
              "    }\n",
              "\n",
              "    [theme=dark] .colab-df-convert:hover {\n",
              "      background-color: #434B5C;\n",
              "      box-shadow: 0px 1px 3px 1px rgba(0, 0, 0, 0.15);\n",
              "      filter: drop-shadow(0px 1px 2px rgba(0, 0, 0, 0.3));\n",
              "      fill: #FFFFFF;\n",
              "    }\n",
              "  </style>\n",
              "\n",
              "    <script>\n",
              "      const buttonEl =\n",
              "        document.querySelector('#df-13d4e0d1-2487-462e-a215-1736f1d01a81 button.colab-df-convert');\n",
              "      buttonEl.style.display =\n",
              "        google.colab.kernel.accessAllowed ? 'block' : 'none';\n",
              "\n",
              "      async function convertToInteractive(key) {\n",
              "        const element = document.querySelector('#df-13d4e0d1-2487-462e-a215-1736f1d01a81');\n",
              "        const dataTable =\n",
              "          await google.colab.kernel.invokeFunction('convertToInteractive',\n",
              "                                                    [key], {});\n",
              "        if (!dataTable) return;\n",
              "\n",
              "        const docLinkHtml = 'Like what you see? Visit the ' +\n",
              "          '<a target=\"_blank\" href=https://colab.research.google.com/notebooks/data_table.ipynb>data table notebook</a>'\n",
              "          + ' to learn more about interactive tables.';\n",
              "        element.innerHTML = '';\n",
              "        dataTable['output_type'] = 'display_data';\n",
              "        await google.colab.output.renderOutput(dataTable, element);\n",
              "        const docLink = document.createElement('div');\n",
              "        docLink.innerHTML = docLinkHtml;\n",
              "        element.appendChild(docLink);\n",
              "      }\n",
              "    </script>\n",
              "  </div>\n",
              "\n",
              "\n",
              "<div id=\"df-d12def6b-b970-4be7-8f11-0d7f509b5aa0\">\n",
              "  <button class=\"colab-df-quickchart\" onclick=\"quickchart('df-d12def6b-b970-4be7-8f11-0d7f509b5aa0')\"\n",
              "            title=\"Suggest charts\"\n",
              "            style=\"display:none;\">\n",
              "\n",
              "<svg xmlns=\"http://www.w3.org/2000/svg\" height=\"24px\"viewBox=\"0 0 24 24\"\n",
              "     width=\"24px\">\n",
              "    <g>\n",
              "        <path d=\"M19 3H5c-1.1 0-2 .9-2 2v14c0 1.1.9 2 2 2h14c1.1 0 2-.9 2-2V5c0-1.1-.9-2-2-2zM9 17H7v-7h2v7zm4 0h-2V7h2v10zm4 0h-2v-4h2v4z\"/>\n",
              "    </g>\n",
              "</svg>\n",
              "  </button>\n",
              "\n",
              "<style>\n",
              "  .colab-df-quickchart {\n",
              "      --bg-color: #E8F0FE;\n",
              "      --fill-color: #1967D2;\n",
              "      --hover-bg-color: #E2EBFA;\n",
              "      --hover-fill-color: #174EA6;\n",
              "      --disabled-fill-color: #AAA;\n",
              "      --disabled-bg-color: #DDD;\n",
              "  }\n",
              "\n",
              "  [theme=dark] .colab-df-quickchart {\n",
              "      --bg-color: #3B4455;\n",
              "      --fill-color: #D2E3FC;\n",
              "      --hover-bg-color: #434B5C;\n",
              "      --hover-fill-color: #FFFFFF;\n",
              "      --disabled-bg-color: #3B4455;\n",
              "      --disabled-fill-color: #666;\n",
              "  }\n",
              "\n",
              "  .colab-df-quickchart {\n",
              "    background-color: var(--bg-color);\n",
              "    border: none;\n",
              "    border-radius: 50%;\n",
              "    cursor: pointer;\n",
              "    display: none;\n",
              "    fill: var(--fill-color);\n",
              "    height: 32px;\n",
              "    padding: 0;\n",
              "    width: 32px;\n",
              "  }\n",
              "\n",
              "  .colab-df-quickchart:hover {\n",
              "    background-color: var(--hover-bg-color);\n",
              "    box-shadow: 0 1px 2px rgba(60, 64, 67, 0.3), 0 1px 3px 1px rgba(60, 64, 67, 0.15);\n",
              "    fill: var(--button-hover-fill-color);\n",
              "  }\n",
              "\n",
              "  .colab-df-quickchart-complete:disabled,\n",
              "  .colab-df-quickchart-complete:disabled:hover {\n",
              "    background-color: var(--disabled-bg-color);\n",
              "    fill: var(--disabled-fill-color);\n",
              "    box-shadow: none;\n",
              "  }\n",
              "\n",
              "  .colab-df-spinner {\n",
              "    border: 2px solid var(--fill-color);\n",
              "    border-color: transparent;\n",
              "    border-bottom-color: var(--fill-color);\n",
              "    animation:\n",
              "      spin 1s steps(1) infinite;\n",
              "  }\n",
              "\n",
              "  @keyframes spin {\n",
              "    0% {\n",
              "      border-color: transparent;\n",
              "      border-bottom-color: var(--fill-color);\n",
              "      border-left-color: var(--fill-color);\n",
              "    }\n",
              "    20% {\n",
              "      border-color: transparent;\n",
              "      border-left-color: var(--fill-color);\n",
              "      border-top-color: var(--fill-color);\n",
              "    }\n",
              "    30% {\n",
              "      border-color: transparent;\n",
              "      border-left-color: var(--fill-color);\n",
              "      border-top-color: var(--fill-color);\n",
              "      border-right-color: var(--fill-color);\n",
              "    }\n",
              "    40% {\n",
              "      border-color: transparent;\n",
              "      border-right-color: var(--fill-color);\n",
              "      border-top-color: var(--fill-color);\n",
              "    }\n",
              "    60% {\n",
              "      border-color: transparent;\n",
              "      border-right-color: var(--fill-color);\n",
              "    }\n",
              "    80% {\n",
              "      border-color: transparent;\n",
              "      border-right-color: var(--fill-color);\n",
              "      border-bottom-color: var(--fill-color);\n",
              "    }\n",
              "    90% {\n",
              "      border-color: transparent;\n",
              "      border-bottom-color: var(--fill-color);\n",
              "    }\n",
              "  }\n",
              "</style>\n",
              "\n",
              "  <script>\n",
              "    async function quickchart(key) {\n",
              "      const quickchartButtonEl =\n",
              "        document.querySelector('#' + key + ' button');\n",
              "      quickchartButtonEl.disabled = true;  // To prevent multiple clicks.\n",
              "      quickchartButtonEl.classList.add('colab-df-spinner');\n",
              "      try {\n",
              "        const charts = await google.colab.kernel.invokeFunction(\n",
              "            'suggestCharts', [key], {});\n",
              "      } catch (error) {\n",
              "        console.error('Error during call to suggestCharts:', error);\n",
              "      }\n",
              "      quickchartButtonEl.classList.remove('colab-df-spinner');\n",
              "      quickchartButtonEl.classList.add('colab-df-quickchart-complete');\n",
              "    }\n",
              "    (() => {\n",
              "      let quickchartButtonEl =\n",
              "        document.querySelector('#df-d12def6b-b970-4be7-8f11-0d7f509b5aa0 button');\n",
              "      quickchartButtonEl.style.display =\n",
              "        google.colab.kernel.accessAllowed ? 'block' : 'none';\n",
              "    })();\n",
              "  </script>\n",
              "</div>\n",
              "\n",
              "    </div>\n",
              "  </div>\n"
            ]
          },
          "metadata": {},
          "execution_count": 7
        }
      ]
    },
    {
      "cell_type": "code",
      "source": [
        "df.isnull().sum"
      ],
      "metadata": {
        "colab": {
          "base_uri": "https://localhost:8080/"
        },
        "id": "SCqZbYm12pQI",
        "outputId": "602615aa-ac18-49d8-978f-8ea33cb19d8e"
      },
      "execution_count": 8,
      "outputs": [
        {
          "output_type": "execute_result",
          "data": {
            "text/plain": [
              "<bound method NDFrame._add_numeric_operations.<locals>.sum of        Review_ID  Rating  Year_Month  Reviewer_Location  Review_Text  Branch\n",
              "0          False   False       False              False        False   False\n",
              "1          False   False       False              False        False   False\n",
              "2          False   False       False              False        False   False\n",
              "3          False   False       False              False        False   False\n",
              "4          False   False       False              False        False   False\n",
              "...          ...     ...         ...                ...          ...     ...\n",
              "42651      False   False       False              False        False   False\n",
              "42652      False   False       False              False        False   False\n",
              "42653      False   False       False              False        False   False\n",
              "42654      False   False       False              False        False   False\n",
              "42655      False   False       False              False        False   False\n",
              "\n",
              "[42656 rows x 6 columns]>"
            ]
          },
          "metadata": {},
          "execution_count": 8
        }
      ]
    },
    {
      "cell_type": "markdown",
      "source": [
        "# now we clean the data"
      ],
      "metadata": {
        "id": "2sbopbBf1np_"
      }
    },
    {
      "cell_type": "code",
      "source": [
        "import string"
      ],
      "metadata": {
        "id": "XRK18coH2w_V"
      },
      "execution_count": 9,
      "outputs": []
    },
    {
      "cell_type": "code",
      "source": [
        "punc=string.punctuation"
      ],
      "metadata": {
        "id": "G7QMghp-2zQa"
      },
      "execution_count": 10,
      "outputs": []
    },
    {
      "cell_type": "code",
      "source": [
        "punc"
      ],
      "metadata": {
        "colab": {
          "base_uri": "https://localhost:8080/",
          "height": 35
        },
        "id": "yBV6aGaJ22W8",
        "outputId": "e40b11d6-ee0f-44ef-9d55-ef011c550bbb"
      },
      "execution_count": 11,
      "outputs": [
        {
          "output_type": "execute_result",
          "data": {
            "text/plain": [
              "'!\"#$%&\\'()*+,-./:;<=>?@[\\\\]^_`{|}~'"
            ],
            "application/vnd.google.colaboratory.intrinsic+json": {
              "type": "string"
            }
          },
          "metadata": {},
          "execution_count": 11
        }
      ]
    },
    {
      "cell_type": "code",
      "source": [
        "from spacy.lang.en.stop_words import STOP_WORDS\n",
        "# list of stop words\n",
        "stopwords=list(STOP_WORDS)"
      ],
      "metadata": {
        "id": "h4OnQOY727qw"
      },
      "execution_count": 12,
      "outputs": []
    },
    {
      "cell_type": "code",
      "source": [
        "stopwords"
      ],
      "metadata": {
        "colab": {
          "base_uri": "https://localhost:8080/"
        },
        "id": "85xcO_Mb29Ik",
        "outputId": "293418e8-4e8d-4973-c216-93309b15d3b1"
      },
      "execution_count": 13,
      "outputs": [
        {
          "output_type": "execute_result",
          "data": {
            "text/plain": [
              "['might',\n",
              " 'thereupon',\n",
              " 'everything',\n",
              " 'less',\n",
              " 'anyone',\n",
              " '‘re',\n",
              " 'though',\n",
              " 'to',\n",
              " 'either',\n",
              " 'because',\n",
              " 'others',\n",
              " 'often',\n",
              " 'should',\n",
              " 'here',\n",
              " 'otherwise',\n",
              " 'within',\n",
              " 'namely',\n",
              " 'yours',\n",
              " 'being',\n",
              " 'never',\n",
              " 'anything',\n",
              " 'someone',\n",
              " 'more',\n",
              " 'nine',\n",
              " 'nor',\n",
              " 'may',\n",
              " 'just',\n",
              " 'one',\n",
              " 'third',\n",
              " 'ours',\n",
              " 'my',\n",
              " 'else',\n",
              " 'their',\n",
              " 'seems',\n",
              " 'itself',\n",
              " 'this',\n",
              " 'whether',\n",
              " 'put',\n",
              " 'into',\n",
              " 'cannot',\n",
              " 'be',\n",
              " 'onto',\n",
              " 'been',\n",
              " 'get',\n",
              " 'without',\n",
              " 'due',\n",
              " 'same',\n",
              " 'yourself',\n",
              " 'down',\n",
              " 'front',\n",
              " 'whither',\n",
              " 'other',\n",
              " 'afterwards',\n",
              " 'eight',\n",
              " 'all',\n",
              " '’s',\n",
              " \"'m\",\n",
              " 'next',\n",
              " 'that',\n",
              " 'last',\n",
              " 'latter',\n",
              " 'so',\n",
              " 'towards',\n",
              " 'mostly',\n",
              " '‘ve',\n",
              " 'but',\n",
              " 'those',\n",
              " 'am',\n",
              " 'using',\n",
              " 'what',\n",
              " 'if',\n",
              " 'hundred',\n",
              " 'therein',\n",
              " 'whom',\n",
              " 'hereafter',\n",
              " 'between',\n",
              " 'besides',\n",
              " 'it',\n",
              " 'themselves',\n",
              " 'there',\n",
              " 'seem',\n",
              " 'fifty',\n",
              " 'whence',\n",
              " 'two',\n",
              " \"'s\",\n",
              " 'toward',\n",
              " \"'ll\",\n",
              " 'the',\n",
              " 'give',\n",
              " 'he',\n",
              " \"'re\",\n",
              " 'whereby',\n",
              " 'myself',\n",
              " 'or',\n",
              " 'whole',\n",
              " 'about',\n",
              " 'could',\n",
              " 'nothing',\n",
              " 'hereby',\n",
              " 'go',\n",
              " 'anyway',\n",
              " 'not',\n",
              " 'whoever',\n",
              " 'enough',\n",
              " 'then',\n",
              " '’d',\n",
              " 'much',\n",
              " 'further',\n",
              " 'for',\n",
              " 'per',\n",
              " 'say',\n",
              " 'over',\n",
              " 'me',\n",
              " 'please',\n",
              " 'and',\n",
              " 'some',\n",
              " 'empty',\n",
              " '‘m',\n",
              " 'something',\n",
              " 'while',\n",
              " 'perhaps',\n",
              " 'has',\n",
              " 'which',\n",
              " 'amongst',\n",
              " 'used',\n",
              " 'twenty',\n",
              " 'anywhere',\n",
              " 'hers',\n",
              " 'before',\n",
              " 'few',\n",
              " 'whatever',\n",
              " '’re',\n",
              " 'twelve',\n",
              " 'bottom',\n",
              " 'neither',\n",
              " 'only',\n",
              " 'during',\n",
              " 'nobody',\n",
              " 'beside',\n",
              " 'anyhow',\n",
              " 'none',\n",
              " 'quite',\n",
              " 'thru',\n",
              " 'above',\n",
              " 'therefore',\n",
              " 'ca',\n",
              " 'no',\n",
              " 'side',\n",
              " 'any',\n",
              " 'yourselves',\n",
              " 'they',\n",
              " 'across',\n",
              " 'meanwhile',\n",
              " 'forty',\n",
              " 'although',\n",
              " 'you',\n",
              " 'sometimes',\n",
              " 'many',\n",
              " 'were',\n",
              " 'both',\n",
              " 'doing',\n",
              " 'everywhere',\n",
              " 'six',\n",
              " 'mine',\n",
              " 'our',\n",
              " 'formerly',\n",
              " 'whereafter',\n",
              " 'why',\n",
              " 'made',\n",
              " 'almost',\n",
              " 'ten',\n",
              " 'behind',\n",
              " 'its',\n",
              " 'an',\n",
              " 'nevertheless',\n",
              " '‘d',\n",
              " 'sixty',\n",
              " 'with',\n",
              " 'do',\n",
              " 'alone',\n",
              " 'full',\n",
              " 'as',\n",
              " 'by',\n",
              " 'will',\n",
              " 'where',\n",
              " 'them',\n",
              " 'part',\n",
              " 'every',\n",
              " 'rather',\n",
              " 'several',\n",
              " \"'ve\",\n",
              " 'fifteen',\n",
              " 'ever',\n",
              " 'on',\n",
              " 'up',\n",
              " 'see',\n",
              " 'hereupon',\n",
              " 'at',\n",
              " 'wherein',\n",
              " 'herself',\n",
              " 'n’t',\n",
              " 'unless',\n",
              " 'serious',\n",
              " 'thereby',\n",
              " 'various',\n",
              " 'whereas',\n",
              " 'upon',\n",
              " 'nowhere',\n",
              " 're',\n",
              " 'would',\n",
              " 'can',\n",
              " 'out',\n",
              " 'we',\n",
              " 'below',\n",
              " 'such',\n",
              " 'noone',\n",
              " 'too',\n",
              " 'once',\n",
              " 'together',\n",
              " 'really',\n",
              " '’ve',\n",
              " 'whereupon',\n",
              " 'least',\n",
              " 'top',\n",
              " 'moreover',\n",
              " 'four',\n",
              " 'move',\n",
              " 'along',\n",
              " 'did',\n",
              " 'even',\n",
              " 'thereafter',\n",
              " 'had',\n",
              " 'was',\n",
              " 'own',\n",
              " 'under',\n",
              " 'first',\n",
              " '’m',\n",
              " 'seeming',\n",
              " 'via',\n",
              " 'herein',\n",
              " 'these',\n",
              " 'in',\n",
              " 'i',\n",
              " 'from',\n",
              " 'ourselves',\n",
              " 'seemed',\n",
              " 'became',\n",
              " 'does',\n",
              " 'is',\n",
              " 'off',\n",
              " 'keep',\n",
              " 'five',\n",
              " 'most',\n",
              " 'sometime',\n",
              " 'very',\n",
              " 'still',\n",
              " 'around',\n",
              " 'us',\n",
              " 'whenever',\n",
              " 'elsewhere',\n",
              " 'n‘t',\n",
              " 'a',\n",
              " 'show',\n",
              " 'take',\n",
              " 'when',\n",
              " 'except',\n",
              " 'latterly',\n",
              " 'again',\n",
              " 'indeed',\n",
              " 'eleven',\n",
              " 'thence',\n",
              " 'becoming',\n",
              " 'well',\n",
              " 'each',\n",
              " 'must',\n",
              " 'after',\n",
              " 'also',\n",
              " 'beyond',\n",
              " 'always',\n",
              " 'your',\n",
              " 'regarding',\n",
              " 'beforehand',\n",
              " \"n't\",\n",
              " 'who',\n",
              " 'name',\n",
              " 'until',\n",
              " 'against',\n",
              " 'hence',\n",
              " 'of',\n",
              " 'are',\n",
              " '‘ll',\n",
              " 'wherever',\n",
              " 'become',\n",
              " 'his',\n",
              " 'another',\n",
              " 'how',\n",
              " 'she',\n",
              " 'everyone',\n",
              " 'him',\n",
              " 'now',\n",
              " 'already',\n",
              " 'thus',\n",
              " 'make',\n",
              " \"'d\",\n",
              " 'call',\n",
              " 'three',\n",
              " 'somehow',\n",
              " 'somewhere',\n",
              " 'amount',\n",
              " 'have',\n",
              " '’ll',\n",
              " 'back',\n",
              " 'becomes',\n",
              " 'through',\n",
              " '‘s',\n",
              " 'among',\n",
              " 'her',\n",
              " 'than',\n",
              " 'throughout',\n",
              " 'yet',\n",
              " 'himself',\n",
              " 'former',\n",
              " 'done',\n",
              " 'whose',\n",
              " 'since',\n",
              " 'however']"
            ]
          },
          "metadata": {},
          "execution_count": 13
        }
      ]
    },
    {
      "cell_type": "code",
      "source": [
        "# creating function for data cleaning\n",
        "import spacy\n",
        "nlp = spacy.load(name = 'en_core_web_sm')\n",
        "def text_data_cleaning(sentence):\n",
        "  doc=nlp(sentence)\n",
        "\n",
        "  tokens=[]\n",
        "  for token in doc:\n",
        "    # most non-pronoun words benefit from lemmatization. Converting the word to its lemma form, making it lowercase, and stripping any extra spaces helps in standardizing the text data.\n",
        "        if token.lemma_ != \"-PRON-\":\n",
        "            temp = token.lemma_.lower().strip()\n",
        "        else:\n",
        "          # Pronouns, however, are already fairly standardized and converting them to their lemma form might not be necessary or might even be undesirable depending on the context.\n",
        "            temp = token.lower_\n",
        "        tokens.append(temp)\n",
        "\n",
        "  cleaned_tokens=[]\n",
        "  for token in tokens:\n",
        "    if token not in stopwords and token not in punc:\n",
        "      cleaned_tokens.append(token)\n",
        "\n",
        "  return cleaned_tokens  # Return statement outside the loops"
      ],
      "metadata": {
        "id": "3a2y2-NO3ET_"
      },
      "execution_count": 14,
      "outputs": []
    },
    {
      "cell_type": "code",
      "source": [
        "text_data_cleaning(\"Hello all, It's a beautiful day!\")"
      ],
      "metadata": {
        "colab": {
          "base_uri": "https://localhost:8080/"
        },
        "id": "GsW82Aad3nML",
        "outputId": "60fde9f2-32d5-4dad-afad-548f14b251c3"
      },
      "execution_count": 15,
      "outputs": [
        {
          "output_type": "execute_result",
          "data": {
            "text/plain": [
              "['hello', 'beautiful', 'day']"
            ]
          },
          "metadata": {},
          "execution_count": 15
        }
      ]
    },
    {
      "cell_type": "markdown",
      "source": [
        "## **Vectorisation feature engineering (TF-IDF)**\n",
        "# New Section\n",
        " Frequency-Inverse Document Frequency (TF-IDF), are important in natural language processing (NLP) and machine learning tasks involving textual data. TF-IDF is a numerical statistic that reflects the importance of a word in a document relative to a collection of documents"
      ],
      "metadata": {
        "id": "VD1ge0GM3sGv"
      }
    },
    {
      "cell_type": "code",
      "source": [
        "from sklearn.svm import LinearSVC\n",
        "from sklearn.feature_extraction.text import TfidfVectorizer\n",
        "from sklearn.pipeline import Pipeline"
      ],
      "metadata": {
        "id": "IStRPt2T3qm3"
      },
      "execution_count": 16,
      "outputs": []
    },
    {
      "cell_type": "code",
      "source": [
        "# to convert all our data to numbers, but before we convert them to number we must clean them first by text_data_cleaning function\n",
        "tfidf=TfidfVectorizer(tokenizer=text_data_cleaning)"
      ],
      "metadata": {
        "id": "u3JIBGBO4kn4"
      },
      "execution_count": 17,
      "outputs": []
    },
    {
      "cell_type": "code",
      "source": [
        "# LinearSVC is a type of Support Vector Machine (SVM) classifier specifically designed for linear classification tasks\n",
        "classifier=LinearSVC()"
      ],
      "metadata": {
        "id": "NE_Okv6a4264"
      },
      "execution_count": 18,
      "outputs": []
    },
    {
      "cell_type": "markdown",
      "source": [
        "# Train data"
      ],
      "metadata": {
        "id": "puwGoC9K49wj"
      }
    },
    {
      "cell_type": "code",
      "source": [
        "x=df['Review_Text']\n",
        "y=df['Rating']"
      ],
      "metadata": {
        "id": "ixJ8f7ah5zf3"
      },
      "execution_count": 20,
      "outputs": []
    },
    {
      "cell_type": "code",
      "source": [
        "from sklearn.model_selection import train_test_split\n",
        "x_train,x_test,y_train,y_test=train_test_split(x,y,test_size=0.2,random_state=0)"
      ],
      "metadata": {
        "id": "NUE5FbC6484q"
      },
      "execution_count": 21,
      "outputs": []
    },
    {
      "cell_type": "code",
      "source": [
        "x_train.shape,x_test.shape"
      ],
      "metadata": {
        "colab": {
          "base_uri": "https://localhost:8080/"
        },
        "id": "hn7X1dt06CN-",
        "outputId": "cf488f71-ec3e-4623-a6b0-48379afd5fa1"
      },
      "execution_count": 22,
      "outputs": [
        {
          "output_type": "execute_result",
          "data": {
            "text/plain": [
              "((34124,), (8532,))"
            ]
          },
          "metadata": {},
          "execution_count": 22
        }
      ]
    },
    {
      "cell_type": "code",
      "source": [
        "x_train.head"
      ],
      "metadata": {
        "colab": {
          "base_uri": "https://localhost:8080/"
        },
        "id": "98tsnd_o6JpH",
        "outputId": "9b73db5d-d718-4aff-8107-fc1b3e188585"
      },
      "execution_count": 23,
      "outputs": [
        {
          "output_type": "execute_result",
          "data": {
            "text/plain": [
              "<bound method NDFrame.head of 25840    This was my third trip to Disneyland as a pare...\n",
              "35528    Pirates of the Caribbean ride broke down and w...\n",
              "10913    We travelled with people ranging in ages from ...\n",
              "8268     With all the hype that surrounds Disney, I exp...\n",
              "31902    Purchasing the tickets for this attraction was...\n",
              "                               ...                        \n",
              "32103    What an amazing family holiday to remember for...\n",
              "30403    I visited Disney park with my grandson and had...\n",
              "21243    We've been to Disney World twice so we decided...\n",
              "42613    I was very disappointed with Disneyland Paris....\n",
              "2732     Pros:    Easily accessible via MTR    Plenty o...\n",
              "Name: Review_Text, Length: 34124, dtype: object>"
            ]
          },
          "metadata": {},
          "execution_count": 23
        }
      ]
    },
    {
      "cell_type": "code",
      "source": [
        "# pipline object first will do vactorization then classification\n",
        "clf=Pipeline([('tfidf',tfidf),('clf',classifier)])"
      ],
      "metadata": {
        "id": "u4p-Aw-g6O69"
      },
      "execution_count": 24,
      "outputs": []
    },
    {
      "cell_type": "code",
      "source": [
        "clf.fit(x_train,y_train)"
      ],
      "metadata": {
        "colab": {
          "base_uri": "https://localhost:8080/",
          "height": 182
        },
        "id": "OhyrTnOq6xeP",
        "outputId": "a6a088da-1455-4889-cf10-020afcf2fadd"
      },
      "execution_count": 25,
      "outputs": [
        {
          "output_type": "stream",
          "name": "stderr",
          "text": [
            "/usr/local/lib/python3.10/dist-packages/sklearn/feature_extraction/text.py:528: UserWarning: The parameter 'token_pattern' will not be used since 'tokenizer' is not None'\n",
            "  warnings.warn(\n"
          ]
        },
        {
          "output_type": "execute_result",
          "data": {
            "text/plain": [
              "Pipeline(steps=[('tfidf',\n",
              "                 TfidfVectorizer(tokenizer=<function text_data_cleaning at 0x7e84ba3f5c60>)),\n",
              "                ('clf', LinearSVC())])"
            ],
            "text/html": [
              "<style>#sk-container-id-1 {color: black;background-color: white;}#sk-container-id-1 pre{padding: 0;}#sk-container-id-1 div.sk-toggleable {background-color: white;}#sk-container-id-1 label.sk-toggleable__label {cursor: pointer;display: block;width: 100%;margin-bottom: 0;padding: 0.3em;box-sizing: border-box;text-align: center;}#sk-container-id-1 label.sk-toggleable__label-arrow:before {content: \"▸\";float: left;margin-right: 0.25em;color: #696969;}#sk-container-id-1 label.sk-toggleable__label-arrow:hover:before {color: black;}#sk-container-id-1 div.sk-estimator:hover label.sk-toggleable__label-arrow:before {color: black;}#sk-container-id-1 div.sk-toggleable__content {max-height: 0;max-width: 0;overflow: hidden;text-align: left;background-color: #f0f8ff;}#sk-container-id-1 div.sk-toggleable__content pre {margin: 0.2em;color: black;border-radius: 0.25em;background-color: #f0f8ff;}#sk-container-id-1 input.sk-toggleable__control:checked~div.sk-toggleable__content {max-height: 200px;max-width: 100%;overflow: auto;}#sk-container-id-1 input.sk-toggleable__control:checked~label.sk-toggleable__label-arrow:before {content: \"▾\";}#sk-container-id-1 div.sk-estimator input.sk-toggleable__control:checked~label.sk-toggleable__label {background-color: #d4ebff;}#sk-container-id-1 div.sk-label input.sk-toggleable__control:checked~label.sk-toggleable__label {background-color: #d4ebff;}#sk-container-id-1 input.sk-hidden--visually {border: 0;clip: rect(1px 1px 1px 1px);clip: rect(1px, 1px, 1px, 1px);height: 1px;margin: -1px;overflow: hidden;padding: 0;position: absolute;width: 1px;}#sk-container-id-1 div.sk-estimator {font-family: monospace;background-color: #f0f8ff;border: 1px dotted black;border-radius: 0.25em;box-sizing: border-box;margin-bottom: 0.5em;}#sk-container-id-1 div.sk-estimator:hover {background-color: #d4ebff;}#sk-container-id-1 div.sk-parallel-item::after {content: \"\";width: 100%;border-bottom: 1px solid gray;flex-grow: 1;}#sk-container-id-1 div.sk-label:hover label.sk-toggleable__label {background-color: #d4ebff;}#sk-container-id-1 div.sk-serial::before {content: \"\";position: absolute;border-left: 1px solid gray;box-sizing: border-box;top: 0;bottom: 0;left: 50%;z-index: 0;}#sk-container-id-1 div.sk-serial {display: flex;flex-direction: column;align-items: center;background-color: white;padding-right: 0.2em;padding-left: 0.2em;position: relative;}#sk-container-id-1 div.sk-item {position: relative;z-index: 1;}#sk-container-id-1 div.sk-parallel {display: flex;align-items: stretch;justify-content: center;background-color: white;position: relative;}#sk-container-id-1 div.sk-item::before, #sk-container-id-1 div.sk-parallel-item::before {content: \"\";position: absolute;border-left: 1px solid gray;box-sizing: border-box;top: 0;bottom: 0;left: 50%;z-index: -1;}#sk-container-id-1 div.sk-parallel-item {display: flex;flex-direction: column;z-index: 1;position: relative;background-color: white;}#sk-container-id-1 div.sk-parallel-item:first-child::after {align-self: flex-end;width: 50%;}#sk-container-id-1 div.sk-parallel-item:last-child::after {align-self: flex-start;width: 50%;}#sk-container-id-1 div.sk-parallel-item:only-child::after {width: 0;}#sk-container-id-1 div.sk-dashed-wrapped {border: 1px dashed gray;margin: 0 0.4em 0.5em 0.4em;box-sizing: border-box;padding-bottom: 0.4em;background-color: white;}#sk-container-id-1 div.sk-label label {font-family: monospace;font-weight: bold;display: inline-block;line-height: 1.2em;}#sk-container-id-1 div.sk-label-container {text-align: center;}#sk-container-id-1 div.sk-container {/* jupyter's `normalize.less` sets `[hidden] { display: none; }` but bootstrap.min.css set `[hidden] { display: none !important; }` so we also need the `!important` here to be able to override the default hidden behavior on the sphinx rendered scikit-learn.org. See: https://github.com/scikit-learn/scikit-learn/issues/21755 */display: inline-block !important;position: relative;}#sk-container-id-1 div.sk-text-repr-fallback {display: none;}</style><div id=\"sk-container-id-1\" class=\"sk-top-container\"><div class=\"sk-text-repr-fallback\"><pre>Pipeline(steps=[(&#x27;tfidf&#x27;,\n",
              "                 TfidfVectorizer(tokenizer=&lt;function text_data_cleaning at 0x7e84ba3f5c60&gt;)),\n",
              "                (&#x27;clf&#x27;, LinearSVC())])</pre><b>In a Jupyter environment, please rerun this cell to show the HTML representation or trust the notebook. <br />On GitHub, the HTML representation is unable to render, please try loading this page with nbviewer.org.</b></div><div class=\"sk-container\" hidden><div class=\"sk-item sk-dashed-wrapped\"><div class=\"sk-label-container\"><div class=\"sk-label sk-toggleable\"><input class=\"sk-toggleable__control sk-hidden--visually\" id=\"sk-estimator-id-1\" type=\"checkbox\" ><label for=\"sk-estimator-id-1\" class=\"sk-toggleable__label sk-toggleable__label-arrow\">Pipeline</label><div class=\"sk-toggleable__content\"><pre>Pipeline(steps=[(&#x27;tfidf&#x27;,\n",
              "                 TfidfVectorizer(tokenizer=&lt;function text_data_cleaning at 0x7e84ba3f5c60&gt;)),\n",
              "                (&#x27;clf&#x27;, LinearSVC())])</pre></div></div></div><div class=\"sk-serial\"><div class=\"sk-item\"><div class=\"sk-estimator sk-toggleable\"><input class=\"sk-toggleable__control sk-hidden--visually\" id=\"sk-estimator-id-2\" type=\"checkbox\" ><label for=\"sk-estimator-id-2\" class=\"sk-toggleable__label sk-toggleable__label-arrow\">TfidfVectorizer</label><div class=\"sk-toggleable__content\"><pre>TfidfVectorizer(tokenizer=&lt;function text_data_cleaning at 0x7e84ba3f5c60&gt;)</pre></div></div></div><div class=\"sk-item\"><div class=\"sk-estimator sk-toggleable\"><input class=\"sk-toggleable__control sk-hidden--visually\" id=\"sk-estimator-id-3\" type=\"checkbox\" ><label for=\"sk-estimator-id-3\" class=\"sk-toggleable__label sk-toggleable__label-arrow\">LinearSVC</label><div class=\"sk-toggleable__content\"><pre>LinearSVC()</pre></div></div></div></div></div></div></div>"
            ]
          },
          "metadata": {},
          "execution_count": 25
        }
      ]
    },
    {
      "cell_type": "markdown",
      "source": [
        "# Predict"
      ],
      "metadata": {
        "id": "0GHZ924cAOIF"
      }
    },
    {
      "cell_type": "code",
      "source": [
        "from sklearn.metrics import accuracy_score"
      ],
      "metadata": {
        "id": "qiG2w6UNANML"
      },
      "execution_count": 26,
      "outputs": []
    },
    {
      "cell_type": "code",
      "source": [
        "y_predict=clf.predict(x_test)"
      ],
      "metadata": {
        "id": "FKSscC_lARwK"
      },
      "execution_count": 27,
      "outputs": []
    },
    {
      "cell_type": "code",
      "source": [
        "accuracy_score(y_test,y_predict)"
      ],
      "metadata": {
        "colab": {
          "base_uri": "https://localhost:8080/"
        },
        "id": "nBMiO1IPCOX4",
        "outputId": "acaf6de3-9e43-4131-bcea-fe743194866b"
      },
      "execution_count": 28,
      "outputs": [
        {
          "output_type": "execute_result",
          "data": {
            "text/plain": [
              "0.5985700890764182"
            ]
          },
          "metadata": {},
          "execution_count": 28
        }
      ]
    },
    {
      "cell_type": "code",
      "source": [
        "clf.predict(['This place is great ! '])"
      ],
      "metadata": {
        "colab": {
          "base_uri": "https://localhost:8080/"
        },
        "id": "fziXg8ixCU9T",
        "outputId": "a458a6e1-05d9-4c46-8745-7d40992990f1"
      },
      "execution_count": 29,
      "outputs": [
        {
          "output_type": "execute_result",
          "data": {
            "text/plain": [
              "array([5])"
            ]
          },
          "metadata": {},
          "execution_count": 29
        }
      ]
    },
    {
      "cell_type": "code",
      "source": [
        "clf.predict(['bad park '])"
      ],
      "metadata": {
        "colab": {
          "base_uri": "https://localhost:8080/"
        },
        "id": "I5qKqTfvCj-M",
        "outputId": "e0035e0b-3d8a-41e8-8568-0e6ff4b465bb"
      },
      "execution_count": 32,
      "outputs": [
        {
          "output_type": "execute_result",
          "data": {
            "text/plain": [
              "array([1])"
            ]
          },
          "metadata": {},
          "execution_count": 32
        }
      ]
    },
    {
      "cell_type": "code",
      "source": [
        "clf.predict(['my rating is zero'])"
      ],
      "metadata": {
        "colab": {
          "base_uri": "https://localhost:8080/"
        },
        "id": "TUj_1nUcDPJD",
        "outputId": "121b079b-a7c2-40e8-c99a-2f7cedc68494"
      },
      "execution_count": 36,
      "outputs": [
        {
          "output_type": "execute_result",
          "data": {
            "text/plain": [
              "array([1])"
            ]
          },
          "metadata": {},
          "execution_count": 36
        }
      ]
    }
  ]
}